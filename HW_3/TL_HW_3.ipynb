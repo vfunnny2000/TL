{
  "nbformat": 4,
  "nbformat_minor": 0,
  "metadata": {
    "colab": {
      "provenance": []
    },
    "kernelspec": {
      "name": "python3",
      "display_name": "Python 3"
    },
    "language_info": {
      "name": "python"
    }
  },
  "cells": [
    {
      "cell_type": "code",
      "source": [
        "!pip install transformers"
      ],
      "metadata": {
        "colab": {
          "base_uri": "https://localhost:8080/"
        },
        "id": "JIFBOUg4Y3xH",
        "outputId": "f8f191b8-d7e5-4fbb-8bfa-a6377618164e"
      },
      "execution_count": 10,
      "outputs": [
        {
          "output_type": "stream",
          "name": "stdout",
          "text": [
            "Requirement already satisfied: transformers in /usr/local/lib/python3.10/dist-packages (4.38.2)\n",
            "Requirement already satisfied: filelock in /usr/local/lib/python3.10/dist-packages (from transformers) (3.13.4)\n",
            "Requirement already satisfied: huggingface-hub<1.0,>=0.19.3 in /usr/local/lib/python3.10/dist-packages (from transformers) (0.20.3)\n",
            "Requirement already satisfied: numpy>=1.17 in /usr/local/lib/python3.10/dist-packages (from transformers) (1.25.2)\n",
            "Requirement already satisfied: packaging>=20.0 in /usr/local/lib/python3.10/dist-packages (from transformers) (24.0)\n",
            "Requirement already satisfied: pyyaml>=5.1 in /usr/local/lib/python3.10/dist-packages (from transformers) (6.0.1)\n",
            "Requirement already satisfied: regex!=2019.12.17 in /usr/local/lib/python3.10/dist-packages (from transformers) (2023.12.25)\n",
            "Requirement already satisfied: requests in /usr/local/lib/python3.10/dist-packages (from transformers) (2.31.0)\n",
            "Requirement already satisfied: tokenizers<0.19,>=0.14 in /usr/local/lib/python3.10/dist-packages (from transformers) (0.15.2)\n",
            "Requirement already satisfied: safetensors>=0.4.1 in /usr/local/lib/python3.10/dist-packages (from transformers) (0.4.2)\n",
            "Requirement already satisfied: tqdm>=4.27 in /usr/local/lib/python3.10/dist-packages (from transformers) (4.66.2)\n",
            "Requirement already satisfied: fsspec>=2023.5.0 in /usr/local/lib/python3.10/dist-packages (from huggingface-hub<1.0,>=0.19.3->transformers) (2023.6.0)\n",
            "Requirement already satisfied: typing-extensions>=3.7.4.3 in /usr/local/lib/python3.10/dist-packages (from huggingface-hub<1.0,>=0.19.3->transformers) (4.11.0)\n",
            "Requirement already satisfied: charset-normalizer<4,>=2 in /usr/local/lib/python3.10/dist-packages (from requests->transformers) (3.3.2)\n",
            "Requirement already satisfied: idna<4,>=2.5 in /usr/local/lib/python3.10/dist-packages (from requests->transformers) (3.6)\n",
            "Requirement already satisfied: urllib3<3,>=1.21.1 in /usr/local/lib/python3.10/dist-packages (from requests->transformers) (2.0.7)\n",
            "Requirement already satisfied: certifi>=2017.4.17 in /usr/local/lib/python3.10/dist-packages (from requests->transformers) (2024.2.2)\n"
          ]
        }
      ]
    },
    {
      "cell_type": "code",
      "source": [
        "import requests\n",
        "from bs4 import BeautifulSoup\n",
        "import csv\n",
        "from transformers import pipeline"
      ],
      "metadata": {
        "id": "kgqP2pueYEd5"
      },
      "execution_count": 11,
      "outputs": []
    },
    {
      "cell_type": "code",
      "source": [
        "# Функция для получения текста отзыва из URL\n",
        "def get_review_text(url):\n",
        "    response = requests.get(url)\n",
        "    soup = BeautifulSoup(response.text, 'html.parser')\n",
        "    review_text_element = soup.find(class_='Comment_reviewText__PEkHn')\n",
        "    if review_text_element:\n",
        "        review_text = review_text_element.get_text()\n",
        "        return review_text\n",
        "    else:\n",
        "        return \"Review text not found\""
      ],
      "metadata": {
        "id": "BQMgTFxBYiX3"
      },
      "execution_count": 12,
      "outputs": []
    },
    {
      "cell_type": "code",
      "source": [
        "# URL страницы с отзывами\n",
        "base_url = 'https://www.litres.ru/book/lev-tolstoy/voyna-i-mir-tom-1-25452548/otzivi/'"
      ],
      "metadata": {
        "id": "gPFr4aIuYiUA"
      },
      "execution_count": 13,
      "outputs": []
    },
    {
      "cell_type": "code",
      "source": [
        "# Получаем количество страниц с отзывами\n",
        "response = requests.get(base_url)\n",
        "soup = BeautifulSoup(response.text, 'html.parser')\n",
        "\n",
        "last_page_url_element = soup.find(class_='b-pagination__item--last')\n",
        "if last_page_url_element:\n",
        "    last_page_url = last_page_url_element.find('a')['href']\n",
        "    last_page_number = int(last_page_url.split('=')[-1])\n",
        "else:\n",
        "    last_page_number = 1"
      ],
      "metadata": {
        "id": "CCLCz7BDYpP3"
      },
      "execution_count": 14,
      "outputs": []
    },
    {
      "cell_type": "code",
      "source": [
        "# Инициализация модели для анализа тональности\n",
        "classifier = pipeline('sentiment-analysis', model='seara/rubert-tiny2-russian-sentiment')"
      ],
      "metadata": {
        "id": "6pB_H9I2YpML"
      },
      "execution_count": 15,
      "outputs": []
    },
    {
      "cell_type": "code",
      "source": [
        "# Открываем CSV файл для записи результатов\n",
        "with open('sentiment_analysis_results.csv', mode='w', newline='') as file:\n",
        "    writer = csv.writer(file)\n",
        "    writer.writerow(['Отзыв', 'Эмоциональная окраска', 'Вероятность'])\n",
        "\n",
        "    # Проходим по каждой странице с отзывами\n",
        "    for page in range(1, last_page_number + 1):\n",
        "        page_url = f'{base_url}?page={page}'\n",
        "        response = requests.get(page_url)\n",
        "        soup = BeautifulSoup(response.text, 'html.parser')\n",
        "\n",
        "        # Получаем тексты отзывов на текущей странице\n",
        "        review_elements = soup.find_all(class_='Comment_reviewText__PEkHn')\n",
        "\n",
        "        for review_element in review_elements:\n",
        "            review_text = review_element.get_text()\n",
        "\n",
        "            # Анализируем текст отзыва\n",
        "            predictions = classifier([review_text])\n",
        "\n",
        "            # Записываем результаты анализа в CSV файл\n",
        "            for prediction in predictions:\n",
        "                writer.writerow([review_text, prediction['label'], f'{prediction[\"score\"]:.4f}'])\n",
        "\n",
        "print(\"Результаты сохранены в файл sentiment_analysis_results.csv\")"
      ],
      "metadata": {
        "colab": {
          "base_uri": "https://localhost:8080/"
        },
        "id": "PsOVMH-EYv1T",
        "outputId": "405ca3f1-442b-41db-f018-0cc044850e00"
      },
      "execution_count": 16,
      "outputs": [
        {
          "output_type": "stream",
          "name": "stdout",
          "text": [
            "Результаты сохранены в файл sentiment_analysis_results.csv\n"
          ]
        }
      ]
    }
  ]
}